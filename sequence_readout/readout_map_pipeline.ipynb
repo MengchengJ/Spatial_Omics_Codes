{
 "cells": [
  {
   "cell_type": "code",
   "execution_count": 1,
   "metadata": {},
   "outputs": [],
   "source": [
    "from sequence_readout import *\n",
    "SPOTS_EXTRACTED = False"
   ]
  },
  {
   "cell_type": "code",
   "execution_count": 2,
   "metadata": {},
   "outputs": [
    {
     "name": "stderr",
     "output_type": "stream",
     "text": [
      "100%|██████████| 4/4 [23:06<00:00, 346.72s/it]"
     ]
    },
    {
     "name": "stdout",
     "output_type": "stream",
     "text": [
      "(160955398, 2)\n"
     ]
    },
    {
     "name": "stderr",
     "output_type": "stream",
     "text": [
      "\n"
     ]
    }
   ],
   "source": [
    "if SPOTS_EXTRACTED:\n",
    "    coordinates = np.loadtxt('coordinates_four_cyc_int.txt',dtype=int)\n",
    "else:\n",
    "    channels = ['cy3','cy5']\n",
    "    coordinates = None\n",
    "    for i in tqdm(range(1,5)):\n",
    "        for channel in channels:\n",
    "            im = imread(f'./stitched/cyc_{i}_{channel}.tif')\n",
    "            if not np.any(coordinates):\n",
    "                coordinates,_ = extract_coordinates(im,snr=1,quantile=0)\n",
    "            else:\n",
    "                temp,_ = extract_coordinates(im,snr=1,quantile=0)\n",
    "                coordinates = np.unique(np.concatenate((coordinates,temp)),axis=0)\n",
    "print(coordinates.shape)\n"
   ]
  },
  {
   "cell_type": "code",
   "execution_count": 3,
   "metadata": {},
   "outputs": [],
   "source": [
    "intensity_df = get_intensity_df(coordinates,tophat=True)\n",
    "intensity_df.to_csv('intensity_tophat.csv')"
   ]
  },
  {
   "cell_type": "code",
   "execution_count": 4,
   "metadata": {},
   "outputs": [],
   "source": [
    "test_im = imread('./stitched/cyc_1_cy3.tif')[4000:7000,4000:7000]\n",
    "test_im = tophat_spots(test_im)\n",
    "imsave('test_tophat_cy3.tif',test_im,check_contrast=False)\n",
    "test_im = imread('./stitched/cyc_1_cy5.tif')[4000:7000,4000:7000]\n",
    "test_im = tophat_spots(test_im)\n",
    "imsave('test_tophat_cy5.tif',test_im,check_contrast=False)"
   ]
  },
  {
   "cell_type": "code",
   "execution_count": null,
   "metadata": {},
   "outputs": [],
   "source": [
    "start = 7000\n",
    "width = 3000\n",
    "for chn in ['cy3','cy5']:\n",
    "    test_im = imread(f'./stitched/cyc_1_{chn}.tif')[start:start+width,start:start+width]\n",
    "    test_im = tophat_spots(test_im)\n",
    "    imsave(f'test_tophat_{chn}.tif',test_im,check_contrast=False)\n"
   ]
  },
  {
   "cell_type": "code",
   "execution_count": 6,
   "metadata": {},
   "outputs": [],
   "source": [
    "thresholds = {'cy3':300,'cy5':500}\n",
    "seq_df = get_seq_df(intensity_df,coordinates,thresholds)\n",
    "seq_df.to_csv('raw_sequence_tophat.csv')"
   ]
  },
  {
   "cell_type": "code",
   "execution_count": null,
   "metadata": {},
   "outputs": [],
   "source": []
  },
  {
   "cell_type": "code",
   "execution_count": null,
   "metadata": {},
   "outputs": [],
   "source": []
  }
 ],
 "metadata": {
  "interpreter": {
   "hash": "b3ba2566441a7c06988d0923437866b63cedc61552a5af99d1f4fb67d367b25f"
  },
  "kernelspec": {
   "display_name": "Python 3.8.5 64-bit ('base': conda)",
   "name": "python3"
  },
  "language_info": {
   "codemirror_mode": {
    "name": "ipython",
    "version": 3
   },
   "file_extension": ".py",
   "mimetype": "text/x-python",
   "name": "python",
   "nbconvert_exporter": "python",
   "pygments_lexer": "ipython3",
   "version": "3.8.5"
  },
  "orig_nbformat": 4
 },
 "nbformat": 4,
 "nbformat_minor": 2
}
